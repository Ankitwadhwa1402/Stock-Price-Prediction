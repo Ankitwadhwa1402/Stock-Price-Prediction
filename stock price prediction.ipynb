{
 "cells": [
  {
   "cell_type": "code",
   "execution_count": 53,
   "metadata": {},
   "outputs": [],
   "source": [
    "### Predicting the future open price of stocks"
   ]
  },
  {
   "cell_type": "code",
   "execution_count": 54,
   "metadata": {},
   "outputs": [],
   "source": [
    "import pandas as pd\n",
    "import numpy as np\n",
    "import matplotlib.pyplot as plt"
   ]
  },
  {
   "cell_type": "code",
   "execution_count": 55,
   "metadata": {},
   "outputs": [
    {
     "data": {
      "text/html": [
       "<div>\n",
       "<style scoped>\n",
       "    .dataframe tbody tr th:only-of-type {\n",
       "        vertical-align: middle;\n",
       "    }\n",
       "\n",
       "    .dataframe tbody tr th {\n",
       "        vertical-align: top;\n",
       "    }\n",
       "\n",
       "    .dataframe thead th {\n",
       "        text-align: right;\n",
       "    }\n",
       "</style>\n",
       "<table border=\"1\" class=\"dataframe\">\n",
       "  <thead>\n",
       "    <tr style=\"text-align: right;\">\n",
       "      <th></th>\n",
       "      <th>Date</th>\n",
       "      <th>Open</th>\n",
       "      <th>High</th>\n",
       "      <th>Low</th>\n",
       "      <th>Close</th>\n",
       "      <th>Total Trade Quantity</th>\n",
       "      <th>Turnover (Lacs)</th>\n",
       "    </tr>\n",
       "  </thead>\n",
       "  <tbody>\n",
       "    <tr>\n",
       "      <th>0</th>\n",
       "      <td>21-07-10</td>\n",
       "      <td>122.10</td>\n",
       "      <td>123.00</td>\n",
       "      <td>121.05</td>\n",
       "      <td>121.55</td>\n",
       "      <td>658666</td>\n",
       "      <td>803.56</td>\n",
       "    </tr>\n",
       "    <tr>\n",
       "      <th>1</th>\n",
       "      <td>22-07-10</td>\n",
       "      <td>120.30</td>\n",
       "      <td>122.00</td>\n",
       "      <td>120.25</td>\n",
       "      <td>120.90</td>\n",
       "      <td>293312</td>\n",
       "      <td>355.17</td>\n",
       "    </tr>\n",
       "    <tr>\n",
       "      <th>2</th>\n",
       "      <td>23-07-10</td>\n",
       "      <td>121.80</td>\n",
       "      <td>121.95</td>\n",
       "      <td>120.25</td>\n",
       "      <td>120.65</td>\n",
       "      <td>281312</td>\n",
       "      <td>340.31</td>\n",
       "    </tr>\n",
       "    <tr>\n",
       "      <th>3</th>\n",
       "      <td>26-07-10</td>\n",
       "      <td>120.10</td>\n",
       "      <td>121.00</td>\n",
       "      <td>117.10</td>\n",
       "      <td>117.60</td>\n",
       "      <td>658440</td>\n",
       "      <td>780.01</td>\n",
       "    </tr>\n",
       "    <tr>\n",
       "      <th>4</th>\n",
       "      <td>27-07-10</td>\n",
       "      <td>117.60</td>\n",
       "      <td>119.50</td>\n",
       "      <td>112.00</td>\n",
       "      <td>118.65</td>\n",
       "      <td>586100</td>\n",
       "      <td>694.98</td>\n",
       "    </tr>\n",
       "    <tr>\n",
       "      <th>...</th>\n",
       "      <td>...</td>\n",
       "      <td>...</td>\n",
       "      <td>...</td>\n",
       "      <td>...</td>\n",
       "      <td>...</td>\n",
       "      <td>...</td>\n",
       "      <td>...</td>\n",
       "    </tr>\n",
       "    <tr>\n",
       "      <th>2030</th>\n",
       "      <td>24-09-18</td>\n",
       "      <td>233.55</td>\n",
       "      <td>239.20</td>\n",
       "      <td>230.75</td>\n",
       "      <td>233.30</td>\n",
       "      <td>3423509</td>\n",
       "      <td>7999.55</td>\n",
       "    </tr>\n",
       "    <tr>\n",
       "      <th>2031</th>\n",
       "      <td>25-09-18</td>\n",
       "      <td>233.30</td>\n",
       "      <td>236.75</td>\n",
       "      <td>232.00</td>\n",
       "      <td>236.10</td>\n",
       "      <td>2349368</td>\n",
       "      <td>5503.90</td>\n",
       "    </tr>\n",
       "    <tr>\n",
       "      <th>2032</th>\n",
       "      <td>26-09-18</td>\n",
       "      <td>240.00</td>\n",
       "      <td>240.00</td>\n",
       "      <td>232.50</td>\n",
       "      <td>234.25</td>\n",
       "      <td>2240909</td>\n",
       "      <td>5248.60</td>\n",
       "    </tr>\n",
       "    <tr>\n",
       "      <th>2033</th>\n",
       "      <td>27-09-18</td>\n",
       "      <td>234.55</td>\n",
       "      <td>236.80</td>\n",
       "      <td>231.10</td>\n",
       "      <td>233.25</td>\n",
       "      <td>5082859</td>\n",
       "      <td>11859.95</td>\n",
       "    </tr>\n",
       "    <tr>\n",
       "      <th>2034</th>\n",
       "      <td>28-09-18</td>\n",
       "      <td>234.05</td>\n",
       "      <td>235.95</td>\n",
       "      <td>230.20</td>\n",
       "      <td>233.75</td>\n",
       "      <td>3069914</td>\n",
       "      <td>7162.35</td>\n",
       "    </tr>\n",
       "  </tbody>\n",
       "</table>\n",
       "<p>2035 rows × 7 columns</p>\n",
       "</div>"
      ],
      "text/plain": [
       "          Date    Open    High     Low   Close  Total Trade Quantity  \\\n",
       "0     21-07-10  122.10  123.00  121.05  121.55                658666   \n",
       "1     22-07-10  120.30  122.00  120.25  120.90                293312   \n",
       "2     23-07-10  121.80  121.95  120.25  120.65                281312   \n",
       "3     26-07-10  120.10  121.00  117.10  117.60                658440   \n",
       "4     27-07-10  117.60  119.50  112.00  118.65                586100   \n",
       "...        ...     ...     ...     ...     ...                   ...   \n",
       "2030  24-09-18  233.55  239.20  230.75  233.30               3423509   \n",
       "2031  25-09-18  233.30  236.75  232.00  236.10               2349368   \n",
       "2032  26-09-18  240.00  240.00  232.50  234.25               2240909   \n",
       "2033  27-09-18  234.55  236.80  231.10  233.25               5082859   \n",
       "2034  28-09-18  234.05  235.95  230.20  233.75               3069914   \n",
       "\n",
       "      Turnover (Lacs)  \n",
       "0              803.56  \n",
       "1              355.17  \n",
       "2              340.31  \n",
       "3              780.01  \n",
       "4              694.98  \n",
       "...               ...  \n",
       "2030          7999.55  \n",
       "2031          5503.90  \n",
       "2032          5248.60  \n",
       "2033         11859.95  \n",
       "2034          7162.35  \n",
       "\n",
       "[2035 rows x 7 columns]"
      ]
     },
     "execution_count": 55,
     "metadata": {},
     "output_type": "execute_result"
    }
   ],
   "source": [
    "df=pd.read_csv('D:\\\\Machine learning\\\\stockprice.csv')\n",
    "df"
   ]
  },
  {
   "cell_type": "code",
   "execution_count": 56,
   "metadata": {},
   "outputs": [
    {
     "data": {
      "text/plain": [
       "str"
      ]
     },
     "execution_count": 56,
     "metadata": {},
     "output_type": "execute_result"
    }
   ],
   "source": [
    "type(df['Date'][0])"
   ]
  },
  {
   "cell_type": "code",
   "execution_count": 57,
   "metadata": {},
   "outputs": [],
   "source": [
    "df['Date']=pd.to_datetime(df['Date'],format='%d-%m-%y')"
   ]
  },
  {
   "cell_type": "code",
   "execution_count": 58,
   "metadata": {},
   "outputs": [
    {
     "data": {
      "text/plain": [
       "pandas._libs.tslibs.timestamps.Timestamp"
      ]
     },
     "execution_count": 58,
     "metadata": {},
     "output_type": "execute_result"
    }
   ],
   "source": [
    "type(df['Date'][0])"
   ]
  },
  {
   "cell_type": "code",
   "execution_count": 59,
   "metadata": {},
   "outputs": [
    {
     "data": {
      "text/html": [
       "<div>\n",
       "<style scoped>\n",
       "    .dataframe tbody tr th:only-of-type {\n",
       "        vertical-align: middle;\n",
       "    }\n",
       "\n",
       "    .dataframe tbody tr th {\n",
       "        vertical-align: top;\n",
       "    }\n",
       "\n",
       "    .dataframe thead th {\n",
       "        text-align: right;\n",
       "    }\n",
       "</style>\n",
       "<table border=\"1\" class=\"dataframe\">\n",
       "  <thead>\n",
       "    <tr style=\"text-align: right;\">\n",
       "      <th></th>\n",
       "      <th>Date</th>\n",
       "      <th>Open</th>\n",
       "      <th>High</th>\n",
       "      <th>Low</th>\n",
       "      <th>Close</th>\n",
       "      <th>Total Trade Quantity</th>\n",
       "      <th>Turnover (Lacs)</th>\n",
       "    </tr>\n",
       "  </thead>\n",
       "  <tbody>\n",
       "    <tr>\n",
       "      <th>0</th>\n",
       "      <td>2010-07-21</td>\n",
       "      <td>122.10</td>\n",
       "      <td>123.00</td>\n",
       "      <td>121.05</td>\n",
       "      <td>121.55</td>\n",
       "      <td>658666</td>\n",
       "      <td>803.56</td>\n",
       "    </tr>\n",
       "    <tr>\n",
       "      <th>1</th>\n",
       "      <td>2010-07-22</td>\n",
       "      <td>120.30</td>\n",
       "      <td>122.00</td>\n",
       "      <td>120.25</td>\n",
       "      <td>120.90</td>\n",
       "      <td>293312</td>\n",
       "      <td>355.17</td>\n",
       "    </tr>\n",
       "    <tr>\n",
       "      <th>2</th>\n",
       "      <td>2010-07-23</td>\n",
       "      <td>121.80</td>\n",
       "      <td>121.95</td>\n",
       "      <td>120.25</td>\n",
       "      <td>120.65</td>\n",
       "      <td>281312</td>\n",
       "      <td>340.31</td>\n",
       "    </tr>\n",
       "    <tr>\n",
       "      <th>3</th>\n",
       "      <td>2010-07-26</td>\n",
       "      <td>120.10</td>\n",
       "      <td>121.00</td>\n",
       "      <td>117.10</td>\n",
       "      <td>117.60</td>\n",
       "      <td>658440</td>\n",
       "      <td>780.01</td>\n",
       "    </tr>\n",
       "    <tr>\n",
       "      <th>4</th>\n",
       "      <td>2010-07-27</td>\n",
       "      <td>117.60</td>\n",
       "      <td>119.50</td>\n",
       "      <td>112.00</td>\n",
       "      <td>118.65</td>\n",
       "      <td>586100</td>\n",
       "      <td>694.98</td>\n",
       "    </tr>\n",
       "    <tr>\n",
       "      <th>...</th>\n",
       "      <td>...</td>\n",
       "      <td>...</td>\n",
       "      <td>...</td>\n",
       "      <td>...</td>\n",
       "      <td>...</td>\n",
       "      <td>...</td>\n",
       "      <td>...</td>\n",
       "    </tr>\n",
       "    <tr>\n",
       "      <th>2030</th>\n",
       "      <td>2018-09-24</td>\n",
       "      <td>233.55</td>\n",
       "      <td>239.20</td>\n",
       "      <td>230.75</td>\n",
       "      <td>233.30</td>\n",
       "      <td>3423509</td>\n",
       "      <td>7999.55</td>\n",
       "    </tr>\n",
       "    <tr>\n",
       "      <th>2031</th>\n",
       "      <td>2018-09-25</td>\n",
       "      <td>233.30</td>\n",
       "      <td>236.75</td>\n",
       "      <td>232.00</td>\n",
       "      <td>236.10</td>\n",
       "      <td>2349368</td>\n",
       "      <td>5503.90</td>\n",
       "    </tr>\n",
       "    <tr>\n",
       "      <th>2032</th>\n",
       "      <td>2018-09-26</td>\n",
       "      <td>240.00</td>\n",
       "      <td>240.00</td>\n",
       "      <td>232.50</td>\n",
       "      <td>234.25</td>\n",
       "      <td>2240909</td>\n",
       "      <td>5248.60</td>\n",
       "    </tr>\n",
       "    <tr>\n",
       "      <th>2033</th>\n",
       "      <td>2018-09-27</td>\n",
       "      <td>234.55</td>\n",
       "      <td>236.80</td>\n",
       "      <td>231.10</td>\n",
       "      <td>233.25</td>\n",
       "      <td>5082859</td>\n",
       "      <td>11859.95</td>\n",
       "    </tr>\n",
       "    <tr>\n",
       "      <th>2034</th>\n",
       "      <td>2018-09-28</td>\n",
       "      <td>234.05</td>\n",
       "      <td>235.95</td>\n",
       "      <td>230.20</td>\n",
       "      <td>233.75</td>\n",
       "      <td>3069914</td>\n",
       "      <td>7162.35</td>\n",
       "    </tr>\n",
       "  </tbody>\n",
       "</table>\n",
       "<p>2035 rows × 7 columns</p>\n",
       "</div>"
      ],
      "text/plain": [
       "           Date    Open    High     Low   Close  Total Trade Quantity  \\\n",
       "0    2010-07-21  122.10  123.00  121.05  121.55                658666   \n",
       "1    2010-07-22  120.30  122.00  120.25  120.90                293312   \n",
       "2    2010-07-23  121.80  121.95  120.25  120.65                281312   \n",
       "3    2010-07-26  120.10  121.00  117.10  117.60                658440   \n",
       "4    2010-07-27  117.60  119.50  112.00  118.65                586100   \n",
       "...         ...     ...     ...     ...     ...                   ...   \n",
       "2030 2018-09-24  233.55  239.20  230.75  233.30               3423509   \n",
       "2031 2018-09-25  233.30  236.75  232.00  236.10               2349368   \n",
       "2032 2018-09-26  240.00  240.00  232.50  234.25               2240909   \n",
       "2033 2018-09-27  234.55  236.80  231.10  233.25               5082859   \n",
       "2034 2018-09-28  234.05  235.95  230.20  233.75               3069914   \n",
       "\n",
       "      Turnover (Lacs)  \n",
       "0              803.56  \n",
       "1              355.17  \n",
       "2              340.31  \n",
       "3              780.01  \n",
       "4              694.98  \n",
       "...               ...  \n",
       "2030          7999.55  \n",
       "2031          5503.90  \n",
       "2032          5248.60  \n",
       "2033         11859.95  \n",
       "2034          7162.35  \n",
       "\n",
       "[2035 rows x 7 columns]"
      ]
     },
     "execution_count": 59,
     "metadata": {},
     "output_type": "execute_result"
    }
   ],
   "source": [
    "df"
   ]
  },
  {
   "cell_type": "code",
   "execution_count": 60,
   "metadata": {},
   "outputs": [],
   "source": [
    "df=df.set_index(df['Date'])\n"
   ]
  },
  {
   "cell_type": "code",
   "execution_count": 61,
   "metadata": {},
   "outputs": [],
   "source": [
    "df.drop(columns=['Date'],axis=1,inplace=True)"
   ]
  },
  {
   "cell_type": "code",
   "execution_count": 62,
   "metadata": {},
   "outputs": [
    {
     "data": {
      "text/html": [
       "<div>\n",
       "<style scoped>\n",
       "    .dataframe tbody tr th:only-of-type {\n",
       "        vertical-align: middle;\n",
       "    }\n",
       "\n",
       "    .dataframe tbody tr th {\n",
       "        vertical-align: top;\n",
       "    }\n",
       "\n",
       "    .dataframe thead th {\n",
       "        text-align: right;\n",
       "    }\n",
       "</style>\n",
       "<table border=\"1\" class=\"dataframe\">\n",
       "  <thead>\n",
       "    <tr style=\"text-align: right;\">\n",
       "      <th></th>\n",
       "      <th>Open</th>\n",
       "      <th>High</th>\n",
       "      <th>Low</th>\n",
       "      <th>Close</th>\n",
       "      <th>Total Trade Quantity</th>\n",
       "      <th>Turnover (Lacs)</th>\n",
       "    </tr>\n",
       "    <tr>\n",
       "      <th>Date</th>\n",
       "      <th></th>\n",
       "      <th></th>\n",
       "      <th></th>\n",
       "      <th></th>\n",
       "      <th></th>\n",
       "      <th></th>\n",
       "    </tr>\n",
       "  </thead>\n",
       "  <tbody>\n",
       "    <tr>\n",
       "      <th>2010-07-21</th>\n",
       "      <td>122.10</td>\n",
       "      <td>123.00</td>\n",
       "      <td>121.05</td>\n",
       "      <td>121.55</td>\n",
       "      <td>658666</td>\n",
       "      <td>803.56</td>\n",
       "    </tr>\n",
       "    <tr>\n",
       "      <th>2010-07-22</th>\n",
       "      <td>120.30</td>\n",
       "      <td>122.00</td>\n",
       "      <td>120.25</td>\n",
       "      <td>120.90</td>\n",
       "      <td>293312</td>\n",
       "      <td>355.17</td>\n",
       "    </tr>\n",
       "    <tr>\n",
       "      <th>2010-07-23</th>\n",
       "      <td>121.80</td>\n",
       "      <td>121.95</td>\n",
       "      <td>120.25</td>\n",
       "      <td>120.65</td>\n",
       "      <td>281312</td>\n",
       "      <td>340.31</td>\n",
       "    </tr>\n",
       "    <tr>\n",
       "      <th>2010-07-26</th>\n",
       "      <td>120.10</td>\n",
       "      <td>121.00</td>\n",
       "      <td>117.10</td>\n",
       "      <td>117.60</td>\n",
       "      <td>658440</td>\n",
       "      <td>780.01</td>\n",
       "    </tr>\n",
       "    <tr>\n",
       "      <th>2010-07-27</th>\n",
       "      <td>117.60</td>\n",
       "      <td>119.50</td>\n",
       "      <td>112.00</td>\n",
       "      <td>118.65</td>\n",
       "      <td>586100</td>\n",
       "      <td>694.98</td>\n",
       "    </tr>\n",
       "    <tr>\n",
       "      <th>...</th>\n",
       "      <td>...</td>\n",
       "      <td>...</td>\n",
       "      <td>...</td>\n",
       "      <td>...</td>\n",
       "      <td>...</td>\n",
       "      <td>...</td>\n",
       "    </tr>\n",
       "    <tr>\n",
       "      <th>2018-09-24</th>\n",
       "      <td>233.55</td>\n",
       "      <td>239.20</td>\n",
       "      <td>230.75</td>\n",
       "      <td>233.30</td>\n",
       "      <td>3423509</td>\n",
       "      <td>7999.55</td>\n",
       "    </tr>\n",
       "    <tr>\n",
       "      <th>2018-09-25</th>\n",
       "      <td>233.30</td>\n",
       "      <td>236.75</td>\n",
       "      <td>232.00</td>\n",
       "      <td>236.10</td>\n",
       "      <td>2349368</td>\n",
       "      <td>5503.90</td>\n",
       "    </tr>\n",
       "    <tr>\n",
       "      <th>2018-09-26</th>\n",
       "      <td>240.00</td>\n",
       "      <td>240.00</td>\n",
       "      <td>232.50</td>\n",
       "      <td>234.25</td>\n",
       "      <td>2240909</td>\n",
       "      <td>5248.60</td>\n",
       "    </tr>\n",
       "    <tr>\n",
       "      <th>2018-09-27</th>\n",
       "      <td>234.55</td>\n",
       "      <td>236.80</td>\n",
       "      <td>231.10</td>\n",
       "      <td>233.25</td>\n",
       "      <td>5082859</td>\n",
       "      <td>11859.95</td>\n",
       "    </tr>\n",
       "    <tr>\n",
       "      <th>2018-09-28</th>\n",
       "      <td>234.05</td>\n",
       "      <td>235.95</td>\n",
       "      <td>230.20</td>\n",
       "      <td>233.75</td>\n",
       "      <td>3069914</td>\n",
       "      <td>7162.35</td>\n",
       "    </tr>\n",
       "  </tbody>\n",
       "</table>\n",
       "<p>2035 rows × 6 columns</p>\n",
       "</div>"
      ],
      "text/plain": [
       "              Open    High     Low   Close  Total Trade Quantity  \\\n",
       "Date                                                               \n",
       "2010-07-21  122.10  123.00  121.05  121.55                658666   \n",
       "2010-07-22  120.30  122.00  120.25  120.90                293312   \n",
       "2010-07-23  121.80  121.95  120.25  120.65                281312   \n",
       "2010-07-26  120.10  121.00  117.10  117.60                658440   \n",
       "2010-07-27  117.60  119.50  112.00  118.65                586100   \n",
       "...            ...     ...     ...     ...                   ...   \n",
       "2018-09-24  233.55  239.20  230.75  233.30               3423509   \n",
       "2018-09-25  233.30  236.75  232.00  236.10               2349368   \n",
       "2018-09-26  240.00  240.00  232.50  234.25               2240909   \n",
       "2018-09-27  234.55  236.80  231.10  233.25               5082859   \n",
       "2018-09-28  234.05  235.95  230.20  233.75               3069914   \n",
       "\n",
       "            Turnover (Lacs)  \n",
       "Date                         \n",
       "2010-07-21           803.56  \n",
       "2010-07-22           355.17  \n",
       "2010-07-23           340.31  \n",
       "2010-07-26           780.01  \n",
       "2010-07-27           694.98  \n",
       "...                     ...  \n",
       "2018-09-24          7999.55  \n",
       "2018-09-25          5503.90  \n",
       "2018-09-26          5248.60  \n",
       "2018-09-27         11859.95  \n",
       "2018-09-28          7162.35  \n",
       "\n",
       "[2035 rows x 6 columns]"
      ]
     },
     "execution_count": 62,
     "metadata": {},
     "output_type": "execute_result"
    }
   ],
   "source": [
    "df"
   ]
  },
  {
   "cell_type": "markdown",
   "metadata": {},
   "source": [
    "# OPEN PREDICTION"
   ]
  },
  {
   "cell_type": "code",
   "execution_count": 63,
   "metadata": {},
   "outputs": [
    {
     "data": {
      "text/plain": [
       "array([[122.1 ],\n",
       "       [120.3 ],\n",
       "       [121.8 ],\n",
       "       ...,\n",
       "       [240.  ],\n",
       "       [234.55],\n",
       "       [234.05]])"
      ]
     },
     "execution_count": 63,
     "metadata": {},
     "output_type": "execute_result"
    }
   ],
   "source": [
    "x=df.iloc[:,0:1].values\n",
    "x"
   ]
  },
  {
   "cell_type": "markdown",
   "metadata": {},
   "source": [
    "### feature scaling"
   ]
  },
  {
   "cell_type": "code",
   "execution_count": 64,
   "metadata": {},
   "outputs": [],
   "source": [
    "from sklearn.preprocessing import MinMaxScaler"
   ]
  },
  {
   "cell_type": "code",
   "execution_count": 65,
   "metadata": {},
   "outputs": [],
   "source": [
    "sc=MinMaxScaler(feature_range=(0,1));"
   ]
  },
  {
   "cell_type": "code",
   "execution_count": 66,
   "metadata": {},
   "outputs": [],
   "source": [
    "x=sc.fit_transform(x)"
   ]
  },
  {
   "cell_type": "code",
   "execution_count": 67,
   "metadata": {},
   "outputs": [
    {
     "data": {
      "text/plain": [
       "array([[0.16626115],\n",
       "       [0.15896188],\n",
       "       [0.16504461],\n",
       "       ...,\n",
       "       [0.64436334],\n",
       "       [0.62226277],\n",
       "       [0.6202352 ]])"
      ]
     },
     "execution_count": 67,
     "metadata": {},
     "output_type": "execute_result"
    }
   ],
   "source": [
    "x"
   ]
  },
  {
   "cell_type": "code",
   "execution_count": 68,
   "metadata": {},
   "outputs": [],
   "source": [
    "x_train=[]\n",
    "x_test=[]"
   ]
  },
  {
   "cell_type": "code",
   "execution_count": 69,
   "metadata": {},
   "outputs": [
    {
     "data": {
      "text/plain": [
       "(2035, 1)"
      ]
     },
     "execution_count": 69,
     "metadata": {},
     "output_type": "execute_result"
    }
   ],
   "source": [
    "x.shape"
   ]
  },
  {
   "cell_type": "code",
   "execution_count": 70,
   "metadata": {},
   "outputs": [],
   "source": [
    "for i in range(60,2035):\n",
    "    x_train.append(x[i-60:i])\n",
    "    x_test.append(x[i])"
   ]
  },
  {
   "cell_type": "code",
   "execution_count": 71,
   "metadata": {},
   "outputs": [
    {
     "name": "stdout",
     "output_type": "stream",
     "text": [
      "[0.21553122]\n",
      "[0.21553122]\n"
     ]
    }
   ],
   "source": [
    "print(x_train[1][59])\n",
    "print(x_test[0])"
   ]
  },
  {
   "cell_type": "code",
   "execution_count": 72,
   "metadata": {},
   "outputs": [
    {
     "data": {
      "text/plain": [
       "list"
      ]
     },
     "execution_count": 72,
     "metadata": {},
     "output_type": "execute_result"
    }
   ],
   "source": [
    "type(x_train)"
   ]
  },
  {
   "cell_type": "code",
   "execution_count": 73,
   "metadata": {},
   "outputs": [],
   "source": [
    "x_train=np.array(x_train)\n",
    "x_test=np.array(x_test)"
   ]
  },
  {
   "cell_type": "code",
   "execution_count": 74,
   "metadata": {},
   "outputs": [
    {
     "data": {
      "text/plain": [
       "numpy.ndarray"
      ]
     },
     "execution_count": 74,
     "metadata": {},
     "output_type": "execute_result"
    }
   ],
   "source": [
    "type(x_train)"
   ]
  },
  {
   "cell_type": "code",
   "execution_count": 75,
   "metadata": {},
   "outputs": [
    {
     "data": {
      "text/plain": [
       "(1975, 60, 1)"
      ]
     },
     "execution_count": 75,
     "metadata": {},
     "output_type": "execute_result"
    }
   ],
   "source": [
    "x_train.shape  # model accepts 3d shape "
   ]
  },
  {
   "cell_type": "markdown",
   "metadata": {},
   "source": [
    "## Building model"
   ]
  },
  {
   "cell_type": "code",
   "execution_count": 76,
   "metadata": {},
   "outputs": [],
   "source": [
    "from tensorflow.keras.models import Sequential\n",
    "model=Sequential()"
   ]
  },
  {
   "cell_type": "code",
   "execution_count": 77,
   "metadata": {},
   "outputs": [],
   "source": [
    "from tensorflow.keras.layers import  LSTM,Dense,Activation,Dropout"
   ]
  },
  {
   "cell_type": "code",
   "execution_count": 78,
   "metadata": {},
   "outputs": [],
   "source": [
    "model.add(LSTM(units=128,activation='relu',return_sequences=True,input_shape=(60,1)))"
   ]
  },
  {
   "cell_type": "code",
   "execution_count": 79,
   "metadata": {},
   "outputs": [],
   "source": [
    "model.add(LSTM(units=128,activation='relu',return_sequences=True))\n",
    "model.add(Dropout(0.3))"
   ]
  },
  {
   "cell_type": "code",
   "execution_count": 80,
   "metadata": {},
   "outputs": [],
   "source": [
    "model.add(LSTM(units=128,activation='relu',return_sequences=True))\n",
    "model.add(Dropout(0.3))"
   ]
  },
  {
   "cell_type": "code",
   "execution_count": 81,
   "metadata": {},
   "outputs": [],
   "source": [
    "model.add(LSTM(units=64,activation='relu',return_sequences=True))\n",
    "model.add(Dropout(0.2))"
   ]
  },
  {
   "cell_type": "code",
   "execution_count": 82,
   "metadata": {},
   "outputs": [],
   "source": [
    "model.add(LSTM(units=64,activation='relu'))"
   ]
  },
  {
   "cell_type": "code",
   "execution_count": 83,
   "metadata": {},
   "outputs": [],
   "source": [
    "model.add(Dense(units=1))"
   ]
  },
  {
   "cell_type": "code",
   "execution_count": 84,
   "metadata": {},
   "outputs": [],
   "source": [
    "model.compile(optimizer='Adam',loss='mean_squared_error')"
   ]
  },
  {
   "cell_type": "code",
   "execution_count": 85,
   "metadata": {},
   "outputs": [
    {
     "name": "stdout",
     "output_type": "stream",
     "text": [
      "Epoch 1/50\n",
      "124/124 [==============================] - 27s 174ms/step - loss: 0.01742s -\n",
      "Epoch 2/50\n",
      "124/124 [==============================] - 22s 174ms/step - loss: 0.0030\n",
      "Epoch 3/50\n",
      "124/124 [==============================] - 21s 166ms/step - loss: 0.0024\n",
      "Epoch 4/50\n",
      "124/124 [==============================] - 21s 167ms/step - loss: 0.0019\n",
      "Epoch 5/50\n",
      "124/124 [==============================] - 21s 166ms/step - loss: 0.0019\n",
      "Epoch 6/50\n",
      "124/124 [==============================] - 21s 169ms/step - loss: 0.0019\n",
      "Epoch 7/50\n",
      "124/124 [==============================] - 21s 167ms/step - loss: 0.0019\n",
      "Epoch 8/50\n",
      "124/124 [==============================] - 21s 167ms/step - loss: 0.0016\n",
      "Epoch 9/50\n",
      "124/124 [==============================] - 21s 166ms/step - loss: 0.0014\n",
      "Epoch 10/50\n",
      "124/124 [==============================] - 21s 168ms/step - loss: 0.0014\n",
      "Epoch 11/50\n",
      "124/124 [==============================] - 21s 166ms/step - loss: 0.0012\n",
      "Epoch 12/50\n",
      "124/124 [==============================] - 21s 166ms/step - loss: 0.0012\n",
      "Epoch 13/50\n",
      "124/124 [==============================] - 21s 166ms/step - loss: 0.0012\n",
      "Epoch 14/50\n",
      "124/124 [==============================] - 21s 166ms/step - loss: 0.0013\n",
      "Epoch 15/50\n",
      "124/124 [==============================] - 21s 168ms/step - loss: 0.0011\n",
      "Epoch 16/50\n",
      "124/124 [==============================] - 21s 168ms/step - loss: 0.0011\n",
      "Epoch 17/50\n",
      "124/124 [==============================] - 21s 166ms/step - loss: 0.0011\n",
      "Epoch 18/50\n",
      "124/124 [==============================] - 21s 168ms/step - loss: 0.0010\n",
      "Epoch 19/50\n",
      "124/124 [==============================] - 21s 169ms/step - loss: 0.0011\n",
      "Epoch 20/50\n",
      "124/124 [==============================] - 21s 168ms/step - loss: 9.7711e-04\n",
      "Epoch 21/50\n",
      "124/124 [==============================] - 21s 168ms/step - loss: 9.7012e-04\n",
      "Epoch 22/50\n",
      "124/124 [==============================] - 21s 173ms/step - loss: 9.5488e-041s - loss: 9\n",
      "Epoch 23/50\n",
      "124/124 [==============================] - 22s 180ms/step - loss: 8.8217e-04\n",
      "Epoch 24/50\n",
      "124/124 [==============================] - 23s 183ms/step - loss: 7.8049e-04\n",
      "Epoch 25/50\n",
      "124/124 [==============================] - 22s 179ms/step - loss: 9.0655e-044 - ETA: 1s - loss: 9.\n",
      "Epoch 26/50\n",
      "124/124 [==============================] - 22s 179ms/step - loss: 7.7233e-04\n",
      "Epoch 27/50\n",
      "124/124 [==============================] - 22s 181ms/step - loss: 8.9795e-04\n",
      "Epoch 28/50\n",
      "124/124 [==============================] - 21s 171ms/step - loss: 8.4362e-04\n",
      "Epoch 29/50\n",
      "124/124 [==============================] - 21s 166ms/step - loss: 7.4937e-04\n",
      "Epoch 30/50\n",
      "124/124 [==============================] - 21s 167ms/step - loss: 6.8946e-04\n",
      "Epoch 31/50\n",
      "124/124 [==============================] - 21s 171ms/step - loss: 9.0263e-04\n",
      "Epoch 32/50\n",
      "124/124 [==============================] - 22s 179ms/step - loss: 8.5007e-04\n",
      "Epoch 33/50\n",
      "124/124 [==============================] - 22s 175ms/step - loss: 8.2072e-04\n",
      "Epoch 34/50\n",
      "124/124 [==============================] - 21s 169ms/step - loss: 6.5674e-04\n",
      "Epoch 35/50\n",
      "124/124 [==============================] - 21s 168ms/step - loss: 7.5323e-04\n",
      "Epoch 36/50\n",
      "124/124 [==============================] - 21s 166ms/step - loss: 6.8037e-04\n",
      "Epoch 37/50\n",
      "124/124 [==============================] - 21s 168ms/step - loss: 8.4398e-04\n",
      "Epoch 38/50\n",
      "124/124 [==============================] - 21s 166ms/step - loss: 7.0808e-04\n",
      "Epoch 39/50\n",
      "124/124 [==============================] - 21s 166ms/step - loss: 6.7647e-04\n",
      "Epoch 40/50\n",
      "124/124 [==============================] - 21s 168ms/step - loss: 6.4199e-04\n",
      "Epoch 41/50\n",
      "124/124 [==============================] - 21s 166ms/step - loss: 7.4995e-04\n",
      "Epoch 42/50\n",
      "124/124 [==============================] - 21s 167ms/step - loss: 6.9290e-04\n",
      "Epoch 43/50\n",
      "124/124 [==============================] - 21s 170ms/step - loss: 6.4516e-04\n",
      "Epoch 44/50\n",
      "124/124 [==============================] - 21s 166ms/step - loss: 7.6006e-04\n",
      "Epoch 45/50\n",
      "124/124 [==============================] - 21s 167ms/step - loss: 7.0869e-04\n",
      "Epoch 46/50\n",
      "124/124 [==============================] - 21s 171ms/step - loss: 6.3799e-04\n",
      "Epoch 47/50\n",
      "124/124 [==============================] - 21s 168ms/step - loss: 7.2031e-04\n",
      "Epoch 48/50\n",
      "124/124 [==============================] - 21s 167ms/step - loss: 7.5020e-04\n",
      "Epoch 49/50\n",
      "124/124 [==============================] - 21s 171ms/step - loss: 6.6429e-04\n",
      "Epoch 50/50\n",
      "124/124 [==============================] - 21s 167ms/step - loss: 6.2954e-04\n"
     ]
    },
    {
     "data": {
      "text/plain": [
       "<tensorflow.python.keras.callbacks.History at 0x14def9dccc0>"
      ]
     },
     "execution_count": 85,
     "metadata": {},
     "output_type": "execute_result"
    }
   ],
   "source": [
    "model.fit(x_train,x_test,epochs=50,batch_size=16)"
   ]
  },
  {
   "cell_type": "code",
   "execution_count": 86,
   "metadata": {},
   "outputs": [
    {
     "data": {
      "text/html": [
       "<div>\n",
       "<style scoped>\n",
       "    .dataframe tbody tr th:only-of-type {\n",
       "        vertical-align: middle;\n",
       "    }\n",
       "\n",
       "    .dataframe tbody tr th {\n",
       "        vertical-align: top;\n",
       "    }\n",
       "\n",
       "    .dataframe thead th {\n",
       "        text-align: right;\n",
       "    }\n",
       "</style>\n",
       "<table border=\"1\" class=\"dataframe\">\n",
       "  <thead>\n",
       "    <tr style=\"text-align: right;\">\n",
       "      <th></th>\n",
       "      <th>Date</th>\n",
       "      <th>Open</th>\n",
       "      <th>High</th>\n",
       "      <th>Low</th>\n",
       "      <th>Close</th>\n",
       "      <th>Total Trade Quantity</th>\n",
       "      <th>Turnover (Lacs)</th>\n",
       "    </tr>\n",
       "  </thead>\n",
       "  <tbody>\n",
       "    <tr>\n",
       "      <th>0</th>\n",
       "      <td>01-10-18</td>\n",
       "      <td>234.55</td>\n",
       "      <td>234.60</td>\n",
       "      <td>221.05</td>\n",
       "      <td>230.90</td>\n",
       "      <td>1534749</td>\n",
       "      <td>3486.05</td>\n",
       "    </tr>\n",
       "    <tr>\n",
       "      <th>1</th>\n",
       "      <td>03-10-18</td>\n",
       "      <td>230.00</td>\n",
       "      <td>237.50</td>\n",
       "      <td>225.75</td>\n",
       "      <td>227.60</td>\n",
       "      <td>1708590</td>\n",
       "      <td>3960.27</td>\n",
       "    </tr>\n",
       "    <tr>\n",
       "      <th>2</th>\n",
       "      <td>04-10-18</td>\n",
       "      <td>223.50</td>\n",
       "      <td>227.80</td>\n",
       "      <td>216.15</td>\n",
       "      <td>218.20</td>\n",
       "      <td>1728786</td>\n",
       "      <td>3815.79</td>\n",
       "    </tr>\n",
       "    <tr>\n",
       "      <th>3</th>\n",
       "      <td>05-10-18</td>\n",
       "      <td>217.00</td>\n",
       "      <td>218.60</td>\n",
       "      <td>205.90</td>\n",
       "      <td>209.20</td>\n",
       "      <td>3519515</td>\n",
       "      <td>7407.06</td>\n",
       "    </tr>\n",
       "    <tr>\n",
       "      <th>4</th>\n",
       "      <td>08-10-18</td>\n",
       "      <td>208.00</td>\n",
       "      <td>222.25</td>\n",
       "      <td>206.85</td>\n",
       "      <td>215.15</td>\n",
       "      <td>4642146</td>\n",
       "      <td>10062.83</td>\n",
       "    </tr>\n",
       "    <tr>\n",
       "      <th>5</th>\n",
       "      <td>09-10-18</td>\n",
       "      <td>215.50</td>\n",
       "      <td>219.15</td>\n",
       "      <td>209.60</td>\n",
       "      <td>216.50</td>\n",
       "      <td>1844462</td>\n",
       "      <td>3940.70</td>\n",
       "    </tr>\n",
       "    <tr>\n",
       "      <th>6</th>\n",
       "      <td>10-10-18</td>\n",
       "      <td>215.00</td>\n",
       "      <td>229.65</td>\n",
       "      <td>215.00</td>\n",
       "      <td>228.40</td>\n",
       "      <td>2919278</td>\n",
       "      <td>6557.95</td>\n",
       "    </tr>\n",
       "    <tr>\n",
       "      <th>7</th>\n",
       "      <td>11-10-18</td>\n",
       "      <td>215.00</td>\n",
       "      <td>229.70</td>\n",
       "      <td>215.00</td>\n",
       "      <td>224.60</td>\n",
       "      <td>1293881</td>\n",
       "      <td>2890.85</td>\n",
       "    </tr>\n",
       "    <tr>\n",
       "      <th>8</th>\n",
       "      <td>12-10-18</td>\n",
       "      <td>226.25</td>\n",
       "      <td>232.35</td>\n",
       "      <td>225.50</td>\n",
       "      <td>229.10</td>\n",
       "      <td>1165527</td>\n",
       "      <td>2675.91</td>\n",
       "    </tr>\n",
       "    <tr>\n",
       "      <th>9</th>\n",
       "      <td>15-10-18</td>\n",
       "      <td>229.70</td>\n",
       "      <td>237.00</td>\n",
       "      <td>226.80</td>\n",
       "      <td>234.90</td>\n",
       "      <td>1224339</td>\n",
       "      <td>2845.68</td>\n",
       "    </tr>\n",
       "    <tr>\n",
       "      <th>10</th>\n",
       "      <td>16-10-18</td>\n",
       "      <td>237.10</td>\n",
       "      <td>237.70</td>\n",
       "      <td>233.05</td>\n",
       "      <td>235.45</td>\n",
       "      <td>1723113</td>\n",
       "      <td>4052.25</td>\n",
       "    </tr>\n",
       "    <tr>\n",
       "      <th>11</th>\n",
       "      <td>17-10-18</td>\n",
       "      <td>237.70</td>\n",
       "      <td>240.80</td>\n",
       "      <td>229.45</td>\n",
       "      <td>231.10</td>\n",
       "      <td>2945914</td>\n",
       "      <td>6961.65</td>\n",
       "    </tr>\n",
       "    <tr>\n",
       "      <th>12</th>\n",
       "      <td>19-10-18</td>\n",
       "      <td>230.30</td>\n",
       "      <td>232.70</td>\n",
       "      <td>225.50</td>\n",
       "      <td>227.20</td>\n",
       "      <td>1527904</td>\n",
       "      <td>3490.78</td>\n",
       "    </tr>\n",
       "    <tr>\n",
       "      <th>13</th>\n",
       "      <td>22-10-18</td>\n",
       "      <td>229.45</td>\n",
       "      <td>231.60</td>\n",
       "      <td>222.00</td>\n",
       "      <td>223.25</td>\n",
       "      <td>3529711</td>\n",
       "      <td>8028.37</td>\n",
       "    </tr>\n",
       "    <tr>\n",
       "      <th>14</th>\n",
       "      <td>23-10-18</td>\n",
       "      <td>221.10</td>\n",
       "      <td>222.20</td>\n",
       "      <td>214.75</td>\n",
       "      <td>218.30</td>\n",
       "      <td>1416279</td>\n",
       "      <td>3092.15</td>\n",
       "    </tr>\n",
       "    <tr>\n",
       "      <th>15</th>\n",
       "      <td>24-10-18</td>\n",
       "      <td>220.10</td>\n",
       "      <td>221.25</td>\n",
       "      <td>217.05</td>\n",
       "      <td>219.80</td>\n",
       "      <td>2171956</td>\n",
       "      <td>4771.34</td>\n",
       "    </tr>\n",
       "  </tbody>\n",
       "</table>\n",
       "</div>"
      ],
      "text/plain": [
       "        Date    Open    High     Low   Close  Total Trade Quantity  \\\n",
       "0   01-10-18  234.55  234.60  221.05  230.90               1534749   \n",
       "1   03-10-18  230.00  237.50  225.75  227.60               1708590   \n",
       "2   04-10-18  223.50  227.80  216.15  218.20               1728786   \n",
       "3   05-10-18  217.00  218.60  205.90  209.20               3519515   \n",
       "4   08-10-18  208.00  222.25  206.85  215.15               4642146   \n",
       "5   09-10-18  215.50  219.15  209.60  216.50               1844462   \n",
       "6   10-10-18  215.00  229.65  215.00  228.40               2919278   \n",
       "7   11-10-18  215.00  229.70  215.00  224.60               1293881   \n",
       "8   12-10-18  226.25  232.35  225.50  229.10               1165527   \n",
       "9   15-10-18  229.70  237.00  226.80  234.90               1224339   \n",
       "10  16-10-18  237.10  237.70  233.05  235.45               1723113   \n",
       "11  17-10-18  237.70  240.80  229.45  231.10               2945914   \n",
       "12  19-10-18  230.30  232.70  225.50  227.20               1527904   \n",
       "13  22-10-18  229.45  231.60  222.00  223.25               3529711   \n",
       "14  23-10-18  221.10  222.20  214.75  218.30               1416279   \n",
       "15  24-10-18  220.10  221.25  217.05  219.80               2171956   \n",
       "\n",
       "    Turnover (Lacs)  \n",
       "0           3486.05  \n",
       "1           3960.27  \n",
       "2           3815.79  \n",
       "3           7407.06  \n",
       "4          10062.83  \n",
       "5           3940.70  \n",
       "6           6557.95  \n",
       "7           2890.85  \n",
       "8           2675.91  \n",
       "9           2845.68  \n",
       "10          4052.25  \n",
       "11          6961.65  \n",
       "12          3490.78  \n",
       "13          8028.37  \n",
       "14          3092.15  \n",
       "15          4771.34  "
      ]
     },
     "execution_count": 86,
     "metadata": {},
     "output_type": "execute_result"
    }
   ],
   "source": [
    "test=pd.read_csv('D:\\\\Machine learning\\\\stockprice-master\\\\test.csv')\n",
    "test"
   ]
  },
  {
   "cell_type": "code",
   "execution_count": 87,
   "metadata": {},
   "outputs": [
    {
     "data": {
      "text/html": [
       "<div>\n",
       "<style scoped>\n",
       "    .dataframe tbody tr th:only-of-type {\n",
       "        vertical-align: middle;\n",
       "    }\n",
       "\n",
       "    .dataframe tbody tr th {\n",
       "        vertical-align: top;\n",
       "    }\n",
       "\n",
       "    .dataframe thead th {\n",
       "        text-align: right;\n",
       "    }\n",
       "</style>\n",
       "<table border=\"1\" class=\"dataframe\">\n",
       "  <thead>\n",
       "    <tr style=\"text-align: right;\">\n",
       "      <th></th>\n",
       "      <th>Open</th>\n",
       "    </tr>\n",
       "  </thead>\n",
       "  <tbody>\n",
       "    <tr>\n",
       "      <th>2018-07-03 00:00:00</th>\n",
       "      <td>264.50</td>\n",
       "    </tr>\n",
       "    <tr>\n",
       "      <th>2018-07-04 00:00:00</th>\n",
       "      <td>281.00</td>\n",
       "    </tr>\n",
       "    <tr>\n",
       "      <th>2018-07-05 00:00:00</th>\n",
       "      <td>277.45</td>\n",
       "    </tr>\n",
       "    <tr>\n",
       "      <th>2018-07-06 00:00:00</th>\n",
       "      <td>269.80</td>\n",
       "    </tr>\n",
       "    <tr>\n",
       "      <th>2018-07-09 00:00:00</th>\n",
       "      <td>268.25</td>\n",
       "    </tr>\n",
       "    <tr>\n",
       "      <th>...</th>\n",
       "      <td>...</td>\n",
       "    </tr>\n",
       "    <tr>\n",
       "      <th>11</th>\n",
       "      <td>237.70</td>\n",
       "    </tr>\n",
       "    <tr>\n",
       "      <th>12</th>\n",
       "      <td>230.30</td>\n",
       "    </tr>\n",
       "    <tr>\n",
       "      <th>13</th>\n",
       "      <td>229.45</td>\n",
       "    </tr>\n",
       "    <tr>\n",
       "      <th>14</th>\n",
       "      <td>221.10</td>\n",
       "    </tr>\n",
       "    <tr>\n",
       "      <th>15</th>\n",
       "      <td>220.10</td>\n",
       "    </tr>\n",
       "  </tbody>\n",
       "</table>\n",
       "<p>76 rows × 1 columns</p>\n",
       "</div>"
      ],
      "text/plain": [
       "                       Open\n",
       "2018-07-03 00:00:00  264.50\n",
       "2018-07-04 00:00:00  281.00\n",
       "2018-07-05 00:00:00  277.45\n",
       "2018-07-06 00:00:00  269.80\n",
       "2018-07-09 00:00:00  268.25\n",
       "...                     ...\n",
       "11                   237.70\n",
       "12                   230.30\n",
       "13                   229.45\n",
       "14                   221.10\n",
       "15                   220.10\n",
       "\n",
       "[76 rows x 1 columns]"
      ]
     },
     "execution_count": 87,
     "metadata": {},
     "output_type": "execute_result"
    }
   ],
   "source": [
    "dataset=pd.concat((df.iloc[-60:,0:1],test.iloc[-60:,1:2]))\n",
    "dataset"
   ]
  },
  {
   "cell_type": "code",
   "execution_count": 88,
   "metadata": {},
   "outputs": [
    {
     "data": {
      "text/plain": [
       "array([[264.5 ],\n",
       "       [281.  ],\n",
       "       [277.45],\n",
       "       [269.8 ],\n",
       "       [268.25],\n",
       "       [275.9 ],\n",
       "       [274.8 ],\n",
       "       [270.4 ],\n",
       "       [265.  ],\n",
       "       [257.9 ],\n",
       "       [241.55],\n",
       "       [248.4 ],\n",
       "       [239.7 ],\n",
       "       [231.25],\n",
       "       [238.9 ],\n",
       "       [244.  ],\n",
       "       [248.5 ],\n",
       "       [235.9 ],\n",
       "       [241.  ],\n",
       "       [243.7 ],\n",
       "       [243.4 ],\n",
       "       [248.7 ],\n",
       "       [232.5 ],\n",
       "       [236.  ],\n",
       "       [235.15],\n",
       "       [241.  ],\n",
       "       [237.25],\n",
       "       [236.65],\n",
       "       [237.3 ],\n",
       "       [233.  ],\n",
       "       [235.  ],\n",
       "       [236.05],\n",
       "       [240.8 ],\n",
       "       [244.  ],\n",
       "       [246.9 ],\n",
       "       [240.3 ],\n",
       "       [234.5 ],\n",
       "       [231.8 ],\n",
       "       [237.  ],\n",
       "       [233.85],\n",
       "       [235.35],\n",
       "       [237.  ],\n",
       "       [236.  ],\n",
       "       [238.2 ],\n",
       "       [222.  ],\n",
       "       [224.  ],\n",
       "       [221.  ],\n",
       "       [222.5 ],\n",
       "       [222.5 ],\n",
       "       [216.35],\n",
       "       [223.45],\n",
       "       [233.15],\n",
       "       [237.9 ],\n",
       "       [235.95],\n",
       "       [235.  ],\n",
       "       [233.55],\n",
       "       [233.3 ],\n",
       "       [240.  ],\n",
       "       [234.55],\n",
       "       [234.05],\n",
       "       [234.55],\n",
       "       [230.  ],\n",
       "       [223.5 ],\n",
       "       [217.  ],\n",
       "       [208.  ],\n",
       "       [215.5 ],\n",
       "       [215.  ],\n",
       "       [215.  ],\n",
       "       [226.25],\n",
       "       [229.7 ],\n",
       "       [237.1 ],\n",
       "       [237.7 ],\n",
       "       [230.3 ],\n",
       "       [229.45],\n",
       "       [221.1 ],\n",
       "       [220.1 ]])"
      ]
     },
     "execution_count": 88,
     "metadata": {},
     "output_type": "execute_result"
    }
   ],
   "source": [
    "dataset=dataset.values\n",
    "dataset"
   ]
  },
  {
   "cell_type": "code",
   "execution_count": 89,
   "metadata": {},
   "outputs": [
    {
     "data": {
      "text/plain": [
       "(76, 1)"
      ]
     },
     "execution_count": 89,
     "metadata": {},
     "output_type": "execute_result"
    }
   ],
   "source": [
    "dataset.shape"
   ]
  },
  {
   "cell_type": "code",
   "execution_count": 90,
   "metadata": {
    "scrolled": true
   },
   "outputs": [
    {
     "data": {
      "text/plain": [
       "array([[0.74371452],\n",
       "       [0.81062449],\n",
       "       [0.79622871],\n",
       "       [0.76520681],\n",
       "       [0.75892133],\n",
       "       [0.78994323],\n",
       "       [0.78548256],\n",
       "       [0.7676399 ],\n",
       "       [0.74574209],\n",
       "       [0.71695053],\n",
       "       [0.65064882],\n",
       "       [0.6784266 ],\n",
       "       [0.6431468 ],\n",
       "       [0.60888078],\n",
       "       [0.63990268],\n",
       "       [0.66058394],\n",
       "       [0.67883212],\n",
       "       [0.62773723],\n",
       "       [0.64841849],\n",
       "       [0.6593674 ],\n",
       "       [0.65815085],\n",
       "       [0.67964315],\n",
       "       [0.61394972],\n",
       "       [0.62814274],\n",
       "       [0.62469586],\n",
       "       [0.64841849],\n",
       "       [0.63321168],\n",
       "       [0.63077859],\n",
       "       [0.63341444],\n",
       "       [0.61597729],\n",
       "       [0.62408759],\n",
       "       [0.6283455 ],\n",
       "       [0.64760746],\n",
       "       [0.66058394],\n",
       "       [0.67234388],\n",
       "       [0.64557989],\n",
       "       [0.62206002],\n",
       "       [0.61111111],\n",
       "       [0.63219789],\n",
       "       [0.61942417],\n",
       "       [0.62550689],\n",
       "       [0.63219789],\n",
       "       [0.62814274],\n",
       "       [0.63706407],\n",
       "       [0.57137064],\n",
       "       [0.57948094],\n",
       "       [0.56731549],\n",
       "       [0.57339822],\n",
       "       [0.57339822],\n",
       "       [0.54845904],\n",
       "       [0.57725061],\n",
       "       [0.61658556],\n",
       "       [0.63584753],\n",
       "       [0.62793998],\n",
       "       [0.62408759],\n",
       "       [0.61820762],\n",
       "       [0.61719384],\n",
       "       [0.64436334],\n",
       "       [0.62226277],\n",
       "       [0.6202352 ],\n",
       "       [0.62226277],\n",
       "       [0.60381184],\n",
       "       [0.57745337],\n",
       "       [0.55109489],\n",
       "       [0.51459854],\n",
       "       [0.54501217],\n",
       "       [0.54298459],\n",
       "       [0.54298459],\n",
       "       [0.58860503],\n",
       "       [0.6025953 ],\n",
       "       [0.63260341],\n",
       "       [0.6350365 ],\n",
       "       [0.60502839],\n",
       "       [0.60158151],\n",
       "       [0.56772101],\n",
       "       [0.56366586]])"
      ]
     },
     "execution_count": 90,
     "metadata": {},
     "output_type": "execute_result"
    }
   ],
   "source": [
    "y=sc.transform(dataset)\n",
    "y"
   ]
  },
  {
   "cell_type": "code",
   "execution_count": 91,
   "metadata": {},
   "outputs": [],
   "source": [
    "y_train=[]\n",
    "y_test=[]\n",
    "for i in range(60,76):\n",
    "    y_train.append(y[i-60:i,0])\n",
    "    y_test.append(y[i,0])"
   ]
  },
  {
   "cell_type": "code",
   "execution_count": 92,
   "metadata": {},
   "outputs": [],
   "source": [
    "y_train=np.array(y_train)\n",
    "y_test=np.array(y_test)"
   ]
  },
  {
   "cell_type": "code",
   "execution_count": 93,
   "metadata": {},
   "outputs": [
    {
     "data": {
      "text/plain": [
       "(16, 60)"
      ]
     },
     "execution_count": 93,
     "metadata": {},
     "output_type": "execute_result"
    }
   ],
   "source": [
    "y_train.shape"
   ]
  },
  {
   "cell_type": "code",
   "execution_count": 94,
   "metadata": {
    "scrolled": true
   },
   "outputs": [
    {
     "data": {
      "text/plain": [
       "(16, 1)"
      ]
     },
     "execution_count": 94,
     "metadata": {},
     "output_type": "execute_result"
    }
   ],
   "source": [
    "y_test=y_test.reshape(-1,1)\n",
    "y_test.shape"
   ]
  },
  {
   "cell_type": "code",
   "execution_count": 95,
   "metadata": {},
   "outputs": [
    {
     "data": {
      "text/plain": [
       "(16, 60, 1)"
      ]
     },
     "execution_count": 95,
     "metadata": {},
     "output_type": "execute_result"
    }
   ],
   "source": [
    "y_train=y_train.reshape(16,60,-1)\n",
    "y_train.shape"
   ]
  },
  {
   "cell_type": "markdown",
   "metadata": {},
   "source": [
    "## Prediction"
   ]
  },
  {
   "cell_type": "code",
   "execution_count": 96,
   "metadata": {},
   "outputs": [],
   "source": [
    "pred=model.predict(y_train)"
   ]
  },
  {
   "cell_type": "code",
   "execution_count": 97,
   "metadata": {},
   "outputs": [
    {
     "data": {
      "text/plain": [
       "array([[0.66070694],\n",
       "       [0.6591491 ],\n",
       "       [0.65189254],\n",
       "       [0.63340884],\n",
       "       [0.60775495],\n",
       "       [0.5730989 ],\n",
       "       [0.56743217],\n",
       "       [0.569029  ],\n",
       "       [0.5759915 ],\n",
       "       [0.5889667 ],\n",
       "       [0.6075102 ],\n",
       "       [0.6300169 ],\n",
       "       [0.6521325 ],\n",
       "       [0.66064703],\n",
       "       [0.64872086],\n",
       "       [0.6232176 ]], dtype=float32)"
      ]
     },
     "execution_count": 97,
     "metadata": {},
     "output_type": "execute_result"
    }
   ],
   "source": [
    "pred"
   ]
  },
  {
   "cell_type": "code",
   "execution_count": 98,
   "metadata": {},
   "outputs": [
    {
     "data": {
      "text/plain": [
       "array([[244.03033],\n",
       "       [243.64618],\n",
       "       [241.8567 ],\n",
       "       [237.29863],\n",
       "       [230.97237],\n",
       "       [222.4262 ],\n",
       "       [221.02878],\n",
       "       [221.42255],\n",
       "       [223.13951],\n",
       "       [226.3392 ],\n",
       "       [230.91202],\n",
       "       [236.46217],\n",
       "       [241.91588],\n",
       "       [244.01556],\n",
       "       [241.07457],\n",
       "       [234.78546]], dtype=float32)"
      ]
     },
     "execution_count": 98,
     "metadata": {},
     "output_type": "execute_result"
    }
   ],
   "source": [
    "pred=sc.inverse_transform(pred)\n",
    "pred"
   ]
  },
  {
   "cell_type": "code",
   "execution_count": 99,
   "metadata": {},
   "outputs": [],
   "source": [
    "y_test=sc.inverse_transform(y_test)"
   ]
  },
  {
   "cell_type": "code",
   "execution_count": 100,
   "metadata": {},
   "outputs": [
    {
     "data": {
      "text/plain": [
       "[<matplotlib.lines.Line2D at 0x14defa5f438>]"
      ]
     },
     "execution_count": 100,
     "metadata": {},
     "output_type": "execute_result"
    },
    {
     "data": {
      "image/png": "[encoded data removed]",
      "text/plain": [
       "<Figure size 432x288 with 1 Axes>"
      ]
     },
     "metadata": {
      "needs_background": "light"
     },
     "output_type": "display_data"
    }
   ],
   "source": [
    "plt.plot\n",
    "plt.plot(pred,color='r')\n",
    "plt.plot(y_test,color='b')"
   ]
  },
  {
   "cell_type": "code",
   "execution_count": 101,
   "metadata": {},
   "outputs": [
    {
     "name": "stdout",
     "output_type": "stream",
     "text": [
      "[244.03033]\n"
     ]
    },
    {
     "data": {
      "text/plain": [
       "array([234.55])"
      ]
     },
     "execution_count": 101,
     "metadata": {},
     "output_type": "execute_result"
    }
   ],
   "source": [
    "print(pred[0])\n",
    "y_test[0]"
   ]
  },
  {
   "cell_type": "code",
   "execution_count": null,
   "metadata": {},
   "outputs": [],
   "source": []
  }
 ],
 "metadata": {
  "kernelspec": {
   "display_name": "Python 3",
   "language": "python",
   "name": "python3"
  },
  "language_info": {
   "codemirror_mode": {
    "name": "ipython",
    "version": 3
   },
   "file_extension": ".py",
   "mimetype": "text/x-python",
   "name": "python",
   "nbconvert_exporter": "python",
   "pygments_lexer": "ipython3",
   "version": "3.7.3"
  }
 },
 "nbformat": 4,
 "nbformat_minor": 4
}
